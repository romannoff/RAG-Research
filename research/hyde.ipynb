{
 "cells": [
  {
   "cell_type": "code",
   "execution_count": null,
   "id": "ed2ea545-69f0-4c6a-a36e-8fa45235248f",
   "metadata": {
    "scrolled": true
   },
   "outputs": [],
   "source": [
    "ls"
   ]
  },
  {
   "cell_type": "code",
   "execution_count": null,
   "id": "f0c17d24-3562-4448-97ce-391491691784",
   "metadata": {},
   "outputs": [],
   "source": [
    "cd .."
   ]
  },
  {
   "cell_type": "code",
   "execution_count": null,
   "id": "19ab64b8-d20e-43c1-90a7-476a52153e19",
   "metadata": {},
   "outputs": [],
   "source": [
    "!source venv/bin/activate"
   ]
  },
  {
   "cell_type": "code",
   "execution_count": null,
   "id": "36e55355-f748-40a0-8324-b6e4ce14d139",
   "metadata": {},
   "outputs": [],
   "source": [
    "from bs4 import BeautifulSoup\n",
    "import re\n",
    "from datasets import load_dataset\n",
    "from tqdm.notebook import tqdm\n",
    "import pandas as pd\n",
    "import numpy as np\n",
    "\n",
    "from rag_techniques.hyde import HyDeRAG\n",
    "from research.functions import get_natural_questions_sample, get_ms_marco_sample"
   ]
  },
  {
   "cell_type": "code",
   "execution_count": null,
   "id": "f99e04f1-a481-4eeb-9d19-88837b772023",
   "metadata": {},
   "outputs": [],
   "source": [
    "model = HyDeRAG(collection_name='natural_questions')\n",
    "df = pd.read_csv('research/data/qa_dataset.csv', index_col=0)"
   ]
  },
  {
   "cell_type": "code",
   "execution_count": null,
   "id": "9113c681-2447-4043-a65d-f30ebe88ce15",
   "metadata": {},
   "outputs": [],
   "source": [
    "natural_questions_dataset = {\n",
    "    \"question\": [],\n",
    "    \"answer\": [],\n",
    "    \"contexts\": [],\n",
    "    \"ground_truth\": [],\n",
    "}"
   ]
  },
  {
   "cell_type": "code",
   "execution_count": null,
   "id": "09a9a270-7b4d-4dd6-8884-16d3b1fb3b42",
   "metadata": {},
   "outputs": [],
   "source": [
    "for i, (question, answer) in tqdm(df.loc[127:200].iterrows(), total=df.loc[127:200].shape[0]):\n",
    "    \n",
    "    result = model(question)\n",
    "    \n",
    "    natural_questions_dataset[\"question\"].append(question)\n",
    "    natural_questions_dataset[\"answer\"].append(result['answer'])\n",
    "    natural_questions_dataset[\"contexts\"].append(result['context'])\n",
    "    if pd.isna(answer):\n",
    "        answer = 'No answer'\n",
    "    natural_questions_dataset[\"ground_truth\"].append(answer)"
   ]
  },
  {
   "cell_type": "code",
   "execution_count": null,
   "id": "8c26adb4-46ae-4ac6-abb7-50267e4136c1",
   "metadata": {},
   "outputs": [],
   "source": [
    "new_df = pd.DataFrame(natural_questions_dataset)\n",
    "new_df.to_csv('research/data/hyde_rag.csv')"
   ]
  },
  {
   "cell_type": "code",
   "execution_count": null,
   "id": "5d0dcbe7-1280-4461-92c8-bbc94851f318",
   "metadata": {},
   "outputs": [],
   "source": [
    "from src.answer_correctness import AnswerCorrectness\n",
    "evaluator = AnswerCorrectness()\n",
    "res = evaluator.get_correctness(natural_questions_dataset['question'], natural_questions_dataset['answer'], natural_questions_dataset['ground_truth'])\n",
    "np.mean(res[1])"
   ]
  },
  {
   "cell_type": "code",
   "execution_count": null,
   "id": "f93d742a-c80a-4102-9ac6-f0f07380e545",
   "metadata": {},
   "outputs": [],
   "source": [
    "from src.ragas import Evaluator\n",
    "ragas = Evaluator()"
   ]
  },
  {
   "cell_type": "code",
   "execution_count": null,
   "id": "e5d9a250-c775-4234-8523-d6fcb7211649",
   "metadata": {
    "scrolled": true
   },
   "outputs": [],
   "source": [
    "e = ragas.eval(natural_questions_dataset)"
   ]
  },
  {
   "cell_type": "code",
   "execution_count": null,
   "id": "0d604454-db62-433f-a6ed-9ee89877a774",
   "metadata": {},
   "outputs": [],
   "source": []
  }
 ],
 "metadata": {
  "kernelspec": {
   "display_name": "Python 3 (ipykernel)",
   "language": "python",
   "name": "python3"
  },
  "language_info": {
   "codemirror_mode": {
    "name": "ipython",
    "version": 3
   },
   "file_extension": ".py",
   "mimetype": "text/x-python",
   "name": "python",
   "nbconvert_exporter": "python",
   "pygments_lexer": "ipython3",
   "version": "3.12.3"
  }
 },
 "nbformat": 4,
 "nbformat_minor": 5
}
