{
 "cells": [
  {
   "cell_type": "code",
   "execution_count": null,
   "id": "28da4616-587f-4be5-b22a-1ba834f6a0e7",
   "metadata": {},
   "outputs": [],
   "source": [
    "ls"
   ]
  },
  {
   "cell_type": "code",
   "execution_count": null,
   "id": "0c1ebf8d-1262-4586-8cef-4fd24d9cb28c",
   "metadata": {},
   "outputs": [],
   "source": [
    "cd .."
   ]
  },
  {
   "cell_type": "code",
   "execution_count": null,
   "id": "9405657c-18e2-4c39-8d36-3c885532bea8",
   "metadata": {},
   "outputs": [],
   "source": [
    "!source venv/bin/activate"
   ]
  },
  {
   "cell_type": "code",
   "execution_count": null,
   "id": "b295110f-d964-44cd-8d21-0aeafeae2aa4",
   "metadata": {},
   "outputs": [],
   "source": [
    "from datasets import load_dataset\n",
    "from tqdm.notebook import tqdm\n",
    "from langchain_text_splitters import RecursiveCharacterTextSplitter\n",
    "import pandas as pd\n",
    "import numpy as np\n",
    "\n",
    "from research.functions import get_natural_questions_sample, get_ms_marco_sample\n",
    "from rag_techniques.proposition_chunking import PropositionsGenerator\n",
    "from database.vbase import QdrantBase"
   ]
  },
  {
   "cell_type": "code",
   "execution_count": null,
   "id": "78f9438d-ea4b-4fb2-95c5-96aa42c123b3",
   "metadata": {},
   "outputs": [],
   "source": [
    "generator = PropositionsGenerator()"
   ]
  },
  {
   "cell_type": "code",
   "execution_count": null,
   "id": "9262db95-a520-4413-b3a0-0ccf4da9434d",
   "metadata": {},
   "outputs": [],
   "source": [
    "base = QdrantBase(\n",
    "    model_name='BAAI/bge-m3',\n",
    "    vector_dimension=1024,\n",
    "    collection_name='natural_questions_proposition',\n",
    "    # device='cuda'\n",
    ")"
   ]
  },
  {
   "cell_type": "code",
   "execution_count": null,
   "id": "e7a9941d-0ba6-4a9e-8f19-9cac2f67323f",
   "metadata": {},
   "outputs": [],
   "source": [
    "natural_questions = load_dataset(\"natural_questions\", split=\"validation[:1000]\")"
   ]
  },
  {
   "cell_type": "code",
   "execution_count": null,
   "id": "cd246afb-e753-4e71-bd23-725b8b4c5dcf",
   "metadata": {},
   "outputs": [],
   "source": [
    "dataset = {\n",
    "    'question': [],\n",
    "    'answer': [],\n",
    "}\n",
    "\n",
    "texts = []\n",
    "\n",
    "null_count = 0\n",
    "max_null = 20\n",
    "\n",
    "for data in tqdm(natural_questions):\n",
    "    if len(texts) == 100:\n",
    "        break\n",
    "    \n",
    "    question, context, answer = get_natural_questions_sample(data)\n",
    "    if answer == '' and null_count < max_null:\n",
    "        null_count += 1\n",
    "        texts.append(context)\n",
    "        dataset['question'].append(question)\n",
    "        dataset['answer'].append(answer)\n",
    "    elif answer != '':\n",
    "        texts.append(context)\n",
    "        dataset['question'].append(question)\n",
    "        dataset['answer'].append(answer)"
   ]
  },
  {
   "cell_type": "code",
   "execution_count": null,
   "id": "a08eec3d-d7d1-4869-85ce-fe7b81e8cdb9",
   "metadata": {},
   "outputs": [],
   "source": [
    "text_splitter = RecursiveCharacterTextSplitter(\n",
    "    chunk_size=600,\n",
    "    chunk_overlap=0,\n",
    "    length_function=len,\n",
    "    separators=[\"\\n\\n\", \"\\n\", \".\", \" \", \"\"]\n",
    ")"
   ]
  },
  {
   "cell_type": "code",
   "execution_count": null,
   "id": "0562e1af-4385-4dc2-bd7b-04a56e2db6e8",
   "metadata": {},
   "outputs": [],
   "source": [
    "chunks = []\n",
    "\n",
    "for text in tqdm(texts):\n",
    "    chunks += text_splitter.split_text(text)"
   ]
  },
  {
   "cell_type": "code",
   "execution_count": null,
   "id": "19f69891-4991-489d-b206-d9c2d0d9b444",
   "metadata": {},
   "outputs": [],
   "source": [
    "len(chunks)"
   ]
  },
  {
   "cell_type": "code",
   "execution_count": null,
   "id": "45ff086b-4552-4193-8634-ef18aecfe893",
   "metadata": {},
   "outputs": [],
   "source": [
    "chunks[1]"
   ]
  },
  {
   "cell_type": "code",
   "execution_count": null,
   "id": "2a133a9c-9872-454b-b17e-7cd55c6078d0",
   "metadata": {},
   "outputs": [],
   "source": [
    "generator(chunks[1])"
   ]
  },
  {
   "cell_type": "code",
   "execution_count": null,
   "id": "c00bbef5-fca2-4132-b347-6a5a9a0a1756",
   "metadata": {
    "scrolled": true
   },
   "outputs": [],
   "source": [
    "new_chunks = []\n",
    "\n",
    "for chunk in tqdm(chunks):\n",
    "    new_chunks += generator(chunk)"
   ]
  },
  {
   "cell_type": "code",
   "execution_count": null,
   "id": "d901cdc3-4277-4368-a697-e24f5153d834",
   "metadata": {},
   "outputs": [],
   "source": [
    "len(new_chunks)"
   ]
  },
  {
   "cell_type": "code",
   "execution_count": null,
   "id": "c8899b8d-16db-4872-87a0-4bb42978bd4f",
   "metadata": {},
   "outputs": [],
   "source": [
    "for chunk in tqdm(new_chunks):\n",
    "    base.add_point(chunk)"
   ]
  },
  {
   "cell_type": "markdown",
   "id": "3e451a48-27d8-493f-9aee-8b2b008d3d6b",
   "metadata": {},
   "source": [
    "# Оценка"
   ]
  },
  {
   "cell_type": "code",
   "execution_count": null,
   "id": "1d457ed5-2477-47ba-a708-7c4170d2cdd1",
   "metadata": {},
   "outputs": [],
   "source": [
    "from bs4 import BeautifulSoup\n",
    "import re\n",
    "from datasets import load_dataset\n",
    "from tqdm.notebook import tqdm\n",
    "import pandas as pd\n",
    "\n",
    "from rag_techniques.simple_rag_giga import SimpleRag\n",
    "from research.functions import get_natural_questions_sample, get_ms_marco_sample"
   ]
  },
  {
   "cell_type": "code",
   "execution_count": null,
   "id": "4f335bc7-49fa-432f-92c1-c803e8d1f5b7",
   "metadata": {},
   "outputs": [],
   "source": [
    "model = SimpleRag(collection_name='natural_questions_proposition', )"
   ]
  },
  {
   "cell_type": "code",
   "execution_count": null,
   "id": "1c223598-aed7-4780-b123-e08ffeb37ead",
   "metadata": {},
   "outputs": [],
   "source": [
    "df = pd.read_csv('research/data/qa_dataset.csv', index_col=0)"
   ]
  },
  {
   "cell_type": "code",
   "execution_count": null,
   "id": "25385b94-3bc0-4615-b9e8-9eb2860d1214",
   "metadata": {
    "scrolled": true
   },
   "outputs": [],
   "source": [
    "natural_questions_dataset = {\n",
    "    \"question\": [],\n",
    "    \"answer\": [],\n",
    "    \"contexts\": [],\n",
    "    \"ground_truth\": [],\n",
    "}\n",
    "\n",
    "for i, (question, answer) in tqdm(df.iterrows(), total=df.shape[0]):\n",
    "    result = model(question)\n",
    "    natural_questions_dataset[\"question\"].append(question)\n",
    "    natural_questions_dataset[\"answer\"].append(result['answer'])\n",
    "    natural_questions_dataset[\"contexts\"].append(result['context'])\n",
    "    if pd.isna(answer):\n",
    "        answer = 'No answer'\n",
    "    natural_questions_dataset[\"ground_truth\"].append(answer)  "
   ]
  },
  {
   "cell_type": "code",
   "execution_count": null,
   "id": "a00e0f04-edb9-4b59-924c-8403c2b9b351",
   "metadata": {},
   "outputs": [],
   "source": [
    "from src.answer_correctness import AnswerCorrectness"
   ]
  },
  {
   "cell_type": "code",
   "execution_count": null,
   "id": "758ffd58-4fd8-43e6-8ac1-4217a2ad3274",
   "metadata": {},
   "outputs": [],
   "source": [
    "evaluator = AnswerCorrectness()\n",
    "res = evaluator.get_correctness(natural_questions_dataset['question'], natural_questions_dataset['answer'], natural_questions_dataset['ground_truth'])"
   ]
  },
  {
   "cell_type": "code",
   "execution_count": null,
   "id": "c30605f4-1989-432d-a993-c76958e1c049",
   "metadata": {},
   "outputs": [],
   "source": [
    "np.mean(res[1])"
   ]
  },
  {
   "cell_type": "code",
   "execution_count": null,
   "id": "0b210eca-143f-4c8d-a8c1-326ea2499b77",
   "metadata": {},
   "outputs": [],
   "source": [
    "from src.ragas import Evaluator"
   ]
  },
  {
   "cell_type": "code",
   "execution_count": null,
   "id": "aba3a4b2-9137-46ad-b087-2fc0f0dc5d3f",
   "metadata": {},
   "outputs": [],
   "source": [
    "ragas = Evaluator(research_name='proposition_natural_questions')"
   ]
  },
  {
   "cell_type": "code",
   "execution_count": null,
   "id": "4095336c-c72e-4975-9c83-6d6d3b670a6d",
   "metadata": {},
   "outputs": [],
   "source": [
    "e = ragas.eval(natural_questions_dataset)"
   ]
  }
 ],
 "metadata": {
  "kernelspec": {
   "display_name": "Python 3 (ipykernel)",
   "language": "python",
   "name": "python3"
  },
  "language_info": {
   "codemirror_mode": {
    "name": "ipython",
    "version": 3
   },
   "file_extension": ".py",
   "mimetype": "text/x-python",
   "name": "python",
   "nbconvert_exporter": "python",
   "pygments_lexer": "ipython3",
   "version": "3.12.3"
  }
 },
 "nbformat": 4,
 "nbformat_minor": 5
}
