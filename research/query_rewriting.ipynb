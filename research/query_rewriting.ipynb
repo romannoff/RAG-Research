{
 "cells": [
  {
   "cell_type": "code",
   "execution_count": null,
   "id": "1e5903fa-4e34-4cab-b5ca-e066471cffdb",
   "metadata": {
    "scrolled": true
   },
   "outputs": [],
   "source": [
    "ls"
   ]
  },
  {
   "cell_type": "code",
   "execution_count": null,
   "id": "9664d857-d8f7-4168-854e-aa7ee2682814",
   "metadata": {},
   "outputs": [],
   "source": [
    "cd .."
   ]
  },
  {
   "cell_type": "code",
   "execution_count": null,
   "id": "163d64fd-0ae9-452f-bb74-acd7225659ff",
   "metadata": {},
   "outputs": [],
   "source": [
    "who was the first person to receive the nobel prize in physics\n",
    "who got the first nobel prize in physics"
   ]
  },
  {
   "cell_type": "code",
   "execution_count": null,
   "id": "38da380a-4138-4979-82ae-72068fa60a84",
   "metadata": {},
   "outputs": [],
   "source": [
    "!source venv/bin/activate"
   ]
  },
  {
   "cell_type": "code",
   "execution_count": null,
   "id": "313074ca-e3fd-42c8-8be8-b431132d8172",
   "metadata": {},
   "outputs": [],
   "source": [
    "from bs4 import BeautifulSoup\n",
    "import re\n",
    "from datasets import load_dataset\n",
    "from tqdm.notebook import tqdm\n",
    "import pandas as pd\n",
    "import numpy as np\n",
    "\n",
    "from rag_techniques.query_rewriting import QueryRewriterRAG\n",
    "from research.functions import get_natural_questions_sample, get_ms_marco_sample"
   ]
  },
  {
   "cell_type": "code",
   "execution_count": null,
   "id": "9e7a1b6d-9367-4558-b266-16737915a5d6",
   "metadata": {},
   "outputs": [],
   "source": [
    "model = QueryRewriterRAG(collection_name='natural_questions')\n",
    "df = pd.read_csv('research/data/qa_dataset.csv', index_col=0)"
   ]
  },
  {
   "cell_type": "code",
   "execution_count": null,
   "id": "9d909a85-3f3b-4c16-af80-80159b089f7d",
   "metadata": {},
   "outputs": [],
   "source": [
    "natural_questions_dataset = {\n",
    "    \"question\": [],\n",
    "    \"answer\": [],\n",
    "    \"contexts\": [],\n",
    "    \"ground_truth\": [],\n",
    "}\n",
    "\n",
    "for i, (question, answer) in tqdm(df.loc[:200].iterrows(), total=df.loc[:200].shape[0]):\n",
    "    result = model(question)\n",
    "    natural_questions_dataset[\"question\"].append(question)\n",
    "    natural_questions_dataset[\"answer\"].append(result['answer'])\n",
    "    natural_questions_dataset[\"contexts\"].append(result['context'])\n",
    "    if pd.isna(answer):\n",
    "        answer = 'No answer'\n",
    "    natural_questions_dataset[\"ground_truth\"].append(answer)    "
   ]
  },
  {
   "cell_type": "code",
   "execution_count": null,
   "id": "4fd85e2f-4b7d-4e9f-aa1a-51097f24fb75",
   "metadata": {},
   "outputs": [],
   "source": [
    "new_df = pd.DataFrame(natural_questions_dataset)\n",
    "new_df.to_csv('research/data/rewriting_rag.csv')"
   ]
  },
  {
   "cell_type": "code",
   "execution_count": null,
   "id": "331dda65-e5b3-40ce-af34-5c4ed9eb06da",
   "metadata": {},
   "outputs": [],
   "source": [
    "from src.ragas import Evaluator\n",
    "ragas = Evaluator()"
   ]
  },
  {
   "cell_type": "code",
   "execution_count": null,
   "id": "05de214b-5f36-4971-8adc-ffc6b3bddebc",
   "metadata": {
    "scrolled": true
   },
   "outputs": [],
   "source": [
    "e = ragas.eval(natural_questions_dataset)"
   ]
  },
  {
   "cell_type": "code",
   "execution_count": null,
   "id": "156d43a3-53b4-4aa0-bdfb-a593376ae38b",
   "metadata": {},
   "outputs": [],
   "source": [
    "from src.answer_correctness import AnswerCorrectness"
   ]
  },
  {
   "cell_type": "code",
   "execution_count": null,
   "id": "93091a9c-6832-4c13-a30d-751350845357",
   "metadata": {},
   "outputs": [],
   "source": [
    "evaluator = AnswerCorrectness()\n",
    "res = evaluator.get_correctness(natural_questions_dataset['question'], natural_questions_dataset['answer'], natural_questions_dataset['ground_truth'])"
   ]
  },
  {
   "cell_type": "code",
   "execution_count": null,
   "id": "9c4cf58d-8d5a-4878-a975-d19ab2097722",
   "metadata": {},
   "outputs": [],
   "source": [
    "np.mean(res[1])"
   ]
  },
  {
   "cell_type": "code",
   "execution_count": null,
   "id": "53d5ea42-ba29-4df3-ba9c-2d060875ef39",
   "metadata": {},
   "outputs": [],
   "source": []
  }
 ],
 "metadata": {
  "kernelspec": {
   "display_name": "Python 3 (ipykernel)",
   "language": "python",
   "name": "python3"
  },
  "language_info": {
   "codemirror_mode": {
    "name": "ipython",
    "version": 3
   },
   "file_extension": ".py",
   "mimetype": "text/x-python",
   "name": "python",
   "nbconvert_exporter": "python",
   "pygments_lexer": "ipython3",
   "version": "3.12.3"
  }
 },
 "nbformat": 4,
 "nbformat_minor": 5
}
