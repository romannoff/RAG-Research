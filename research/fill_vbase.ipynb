{
 "cells": [
  {
   "cell_type": "code",
   "execution_count": 3,
   "id": "1a156803-0d23-4002-ae1a-248fd03d7fcc",
   "metadata": {},
   "outputs": [],
   "source": [
    "!source venv/bin/activate"
   ]
  },
  {
   "cell_type": "code",
   "execution_count": 2,
   "id": "e8ca5599-cd61-4cb9-968f-45784eceff2f",
   "metadata": {},
   "outputs": [
    {
     "name": "stdout",
     "output_type": "stream",
     "text": [
      "/home/roman/python_project/rag_research\n"
     ]
    }
   ],
   "source": [
    "cd .."
   ]
  },
  {
   "cell_type": "code",
   "execution_count": 1,
   "id": "82a5cf29-8b08-4db5-92e2-99e61efee0f8",
   "metadata": {},
   "outputs": [
    {
     "name": "stdout",
     "output_type": "stream",
     "text": [
      "\u001b[0m\u001b[01;34mdata\u001b[0m/             __init__.py                 query_rewriting.ipynb\n",
      "fill_vbase.ipynb  proposition_chunking.ipynb  reranker_rag.ipynb\n",
      "functions.py      \u001b[01;34m__pycache__\u001b[0m/                simple_rag.ipynb\n",
      "hyde.ipynb        query_decomposition.ipynb\n"
     ]
    }
   ],
   "source": [
    "ls"
   ]
  },
  {
   "cell_type": "code",
   "execution_count": 4,
   "id": "8491a507-b480-4af9-8833-8aa0f9dc012d",
   "metadata": {},
   "outputs": [],
   "source": [
    "from datasets import load_dataset\n",
    "from tqdm.notebook import tqdm\n",
    "from langchain_text_splitters import RecursiveCharacterTextSplitter\n",
    "import pandas as pd\n",
    "\n",
    "from research.functions import get_natural_questions_sample, get_ms_marco_sample"
   ]
  },
  {
   "cell_type": "markdown",
   "id": "f537f2fb-e4e2-4f77-9174-b3a0a75b5fd8",
   "metadata": {},
   "source": [
    "# Natural Questions"
   ]
  },
  {
   "cell_type": "code",
   "execution_count": 5,
   "id": "e3f3b1b2-65bf-4641-a46c-521a6ee9c467",
   "metadata": {},
   "outputs": [
    {
     "data": {
      "application/vnd.jupyter.widget-view+json": {
       "model_id": "3850605e6740444ba2d9a928ce025bd4",
       "version_major": 2,
       "version_minor": 0
      },
      "text/plain": [
       "Resolving data files:   0%|          | 0/287 [00:00<?, ?it/s]"
      ]
     },
     "metadata": {},
     "output_type": "display_data"
    },
    {
     "data": {
      "application/vnd.jupyter.widget-view+json": {
       "model_id": "cecd058bb191488aa9c9f0b321b722be",
       "version_major": 2,
       "version_minor": 0
      },
      "text/plain": [
       "Resolving data files:   0%|          | 0/287 [00:00<?, ?it/s]"
      ]
     },
     "metadata": {},
     "output_type": "display_data"
    }
   ],
   "source": [
    "natural_questions = load_dataset(\"natural_questions\", split=\"validation[:1000]\")"
   ]
  },
  {
   "cell_type": "code",
   "execution_count": 13,
   "id": "57960e11-9d0b-4a55-a003-fee71228b063",
   "metadata": {},
   "outputs": [],
   "source": [
    "question, context, answer = get_natural_questions_sample(natural_questions[2])"
   ]
  },
  {
   "cell_type": "markdown",
   "id": "04db2695-70f9-41da-9bfd-1cbc2969496a",
   "metadata": {},
   "source": [
    "# Вносим данные в векторное хранилище"
   ]
  },
  {
   "cell_type": "code",
   "execution_count": 7,
   "id": "e244f3d7-085a-494a-a4b5-5357af68ca86",
   "metadata": {},
   "outputs": [
    {
     "name": "stderr",
     "output_type": "stream",
     "text": [
      "/home/roman/jupyter/lib/python3.12/site-packages/awq/__init__.py:21: DeprecationWarning: \n",
      "I have left this message as the final dev message to help you transition.\n",
      "\n",
      "Important Notice:\n",
      "- AutoAWQ is officially deprecated and will no longer be maintained.\n",
      "- The last tested configuration used Torch 2.6.0 and Transformers 4.51.3.\n",
      "- If future versions of Transformers break AutoAWQ compatibility, please report the issue to the Transformers project.\n",
      "\n",
      "Alternative:\n",
      "- AutoAWQ has been adopted by the vLLM Project: https://github.com/vllm-project/llm-compressor\n",
      "\n",
      "For further inquiries, feel free to reach out:\n",
      "- X: https://x.com/casper_hansen_\n",
      "- LinkedIn: https://www.linkedin.com/in/casper-hansen-804005170/\n",
      "\n",
      "  warnings.warn(_FINAL_DEV_MESSAGE, category=DeprecationWarning, stacklevel=1)\n"
     ]
    }
   ],
   "source": [
    "from database.vbase import QdrantBase"
   ]
  },
  {
   "cell_type": "code",
   "execution_count": 15,
   "id": "bfb5a0fd-6634-49e0-8aca-edb05ac9dbb4",
   "metadata": {},
   "outputs": [],
   "source": [
    "base = QdrantBase(\n",
    "    model_name='BAAI/bge-m3',\n",
    "    vector_dimension=1024,\n",
    "    collection_name='natural_questions',\n",
    "    device='cuda',\n",
    ")"
   ]
  },
  {
   "cell_type": "code",
   "execution_count": 9,
   "id": "27595834-5627-4561-a6af-34bb14f03906",
   "metadata": {},
   "outputs": [
    {
     "data": {
      "application/vnd.jupyter.widget-view+json": {
       "model_id": "f9371b4fe7e14154be4de5bf136e0112",
       "version_major": 2,
       "version_minor": 0
      },
      "text/plain": [
       "  0%|          | 0/1000 [00:00<?, ?it/s]"
      ]
     },
     "metadata": {},
     "output_type": "display_data"
    }
   ],
   "source": [
    "dataset = {\n",
    "    'question': [],\n",
    "    'answer': [],\n",
    "}\n",
    "texts = []\n",
    "\n",
    "null_count = 0\n",
    "max_null = 100\n",
    "\n",
    "for data in tqdm(natural_questions):\n",
    "    if len(texts) == 500:\n",
    "        break\n",
    "    \n",
    "    question, context, answer = get_natural_questions_sample(data)\n",
    "    if answer == '' and null_count < max_null:\n",
    "        null_count += 1\n",
    "        texts.append(context)\n",
    "        dataset['question'].append(question)\n",
    "        dataset['answer'].append(answer)\n",
    "        continue\n",
    "    elif answer != '':\n",
    "        texts.append(context)\n",
    "        dataset['question'].append(question)\n",
    "        dataset['answer'].append(answer)"
   ]
  },
  {
   "cell_type": "code",
   "execution_count": 11,
   "id": "7d97b6a7-630a-446f-a6ef-b514695fc1dc",
   "metadata": {},
   "outputs": [],
   "source": [
    "df = pd.DataFrame(dataset)\n",
    "df.to_csv('research/qa_dataset.csv', index=False)"
   ]
  },
  {
   "cell_type": "code",
   "execution_count": 13,
   "id": "cdce7594-0841-46ef-bfcf-c1b0a5c9d6a1",
   "metadata": {},
   "outputs": [],
   "source": [
    "text_splitter = RecursiveCharacterTextSplitter(\n",
    "    chunk_size=600,\n",
    "    chunk_overlap=50,\n",
    "    length_function=len,\n",
    "    separators=[\"\\n\\n\", \"\\n\", \".\", \" \", \"\"]\n",
    ")"
   ]
  },
  {
   "cell_type": "code",
   "execution_count": 16,
   "id": "68caa11a-4d4c-4db2-bd23-789104fa48be",
   "metadata": {},
   "outputs": [
    {
     "data": {
      "application/vnd.jupyter.widget-view+json": {
       "model_id": "d71d183d3cc4445caab0504de2d58eaa",
       "version_major": 2,
       "version_minor": 0
      },
      "text/plain": [
       "  0%|          | 0/500 [00:00<?, ?it/s]"
      ]
     },
     "metadata": {},
     "output_type": "display_data"
    }
   ],
   "source": [
    "id_ = 0\n",
    "for text in tqdm(texts):\n",
    "    chunks = text_splitter.split_text(text)\n",
    "    for chunk in chunks:\n",
    "        base.add_point([chunk], {'id': id_})\n",
    "        id_ += 1"
   ]
  },
  {
   "cell_type": "markdown",
   "id": "a9f37b75-374d-4828-9760-5c54d5476b8a",
   "metadata": {},
   "source": [
    "# EDA"
   ]
  },
  {
   "cell_type": "code",
   "execution_count": 71,
   "id": "bf45beb7-3832-4e20-9061-fe7715943953",
   "metadata": {},
   "outputs": [],
   "source": [
    "from qdrant_client import QdrantClient\n",
    "import numpy as np\n",
    "from sklearn.manifold import TSNE\n",
    "from sklearn.cluster import KMeans, DBSCAN\n",
    "from sklearn.metrics import silhouette_score, calinski_harabasz_score\n",
    "from sklearn.metrics.pairwise import cosine_similarity, euclidean_distances\n",
    "from typing import List, Dict, Tuple, Optional\n",
    "import matplotlib.pyplot as plt\n",
    "import seaborn as sns"
   ]
  },
  {
   "cell_type": "code",
   "execution_count": 93,
   "id": "91cfabb6-468d-433b-a121-557f58d6b699",
   "metadata": {},
   "outputs": [],
   "source": [
    "def get_info(collection_name, limit=5000):\n",
    "    collection_info = client.get_collection(collection_name)\n",
    "    print(f\"Коллекция {collection_name}: {collection_info.points_count} точек\")\n",
    "\n",
    "    print(f'Анализируется {limit} точек')\n",
    "    points = client.scroll(\n",
    "        collection_name=collection_name,\n",
    "        limit=limit,\n",
    "        with_payload=True,\n",
    "        with_vectors=True\n",
    "    )[0]\n",
    "    \n",
    "    embeddings = []\n",
    "    ids = []\n",
    "    \n",
    "    for point in points:\n",
    "        embeddings.append(point.vector)\n",
    "        ids.append(str(point.id))\n",
    "        \n",
    "    embeddings = np.array(embeddings)\n",
    "\n",
    "    # DBSCAN кластеризация\n",
    "    dbscan = DBSCAN(eps=0.3, min_samples=5)\n",
    "    dbscan_labels = dbscan.fit_predict(embeddings)\n",
    "    \n",
    "    # Метрики\n",
    "    clustering_metrics = {\n",
    "        'silhouette_dbscan': silhouette_score(embeddings, dbscan_labels) if len(set(dbscan_labels)) > 1 else -1,\n",
    "        'calinski_harabasz_dbscan': calinski_harabasz_score(embeddings, dbscan_labels) if len(set(dbscan_labels)) > 1 else -1,\n",
    "        'n_clusters_dbscan': len(set(dbscan_labels)) - (1 if -1 in dbscan_labels else 0),\n",
    "        'noise_points_dbscan': list(dbscan_labels).count(-1),\n",
    "        'dbscan_labels': dbscan_labels\n",
    "    }\n",
    "    cosine_sim = cosine_similarity(embeddings)\n",
    "        \n",
    "    # Евклидовы расстояния\n",
    "    euclidean_dist = euclidean_distances(embeddings)\n",
    "    \n",
    "    # Убираем диагональ (расстояние точки до самой себя)\n",
    "    np.fill_diagonal(cosine_sim, 0)\n",
    "    np.fill_diagonal(euclidean_dist, 0)\n",
    "    \n",
    "    distance_metrics = {\n",
    "        'cosine_similarity_mean': np.mean(cosine_sim[cosine_sim > 0]),\n",
    "        'cosine_similarity_std': np.std(cosine_sim[cosine_sim > 0]),\n",
    "        'euclidean_distance_mean': np.mean(euclidean_dist[euclidean_dist > 0]),\n",
    "        'euclidean_distance_std': np.std(euclidean_dist[euclidean_dist > 0]),\n",
    "        'cosine_similarity_matrix': cosine_sim,\n",
    "        'euclidean_distance_matrix': euclidean_dist\n",
    "    }\n",
    "\n",
    "    print(\"Метрики кластеризации:\")\n",
    "    print(f\"Silhouette Score (DBSCAN): {clustering_metrics['silhouette_dbscan']:.3f}\")\n",
    "    print(f\"Calinski-Harabasz Score (DBSCAN): {clustering_metrics['calinski_harabasz_dbscan']:.3f}\")\n",
    "    print(f\"Количество кластеров (DBSCAN): {clustering_metrics['n_clusters_dbscan']}\")\n",
    "    print(f\"Шумовые точки (DBSCAN): {clustering_metrics['noise_points_dbscan']}\")\n",
    "    \n",
    "    print(\"Метрики расстояний:\")\n",
    "    print(f\"Среднее косинусное сходство: {distance_metrics['cosine_similarity_mean']:.3f}\")\n",
    "    print(f\"Стандартное отклонение косинусного сходства: {distance_metrics['cosine_similarity_std']:.3f}\")\n",
    "    print(f\"Среднее евклидово расстояние: {distance_metrics['euclidean_distance_mean']:.3f}\")\n",
    "    print(f\"Стандартное отклонение евклидова расстояния: {distance_metrics['euclidean_distance_std']:.3f}\")\n",
    "    \n",
    "    # Распределение расстояний\n",
    "    plot_distance_distribution(distance_metrics, collection_name)\n"
   ]
  },
  {
   "cell_type": "code",
   "execution_count": 94,
   "id": "50b57d08-aac2-4056-b224-0cbfd134ef2b",
   "metadata": {},
   "outputs": [],
   "source": [
    "def plot_distance_distribution(distance_metrics: Dict, title: str):\n",
    "        \"\"\"\n",
    "        Строит распределение расстояний\n",
    "        \n",
    "        Args:\n",
    "            distance_metrics: метрики расстояний\n",
    "            title: заголовок\n",
    "        \"\"\"\n",
    "        fig, axes = plt.subplots(1, 2, figsize=(15, 6))\n",
    "        \n",
    "        # Косинусное сходство\n",
    "        cosine_sim = distance_metrics['cosine_similarity_matrix']\n",
    "        cosine_values = cosine_sim[cosine_sim > 0]\n",
    "        \n",
    "        axes[0].hist(cosine_values, bins=50, alpha=0.7, edgecolor='black')\n",
    "        axes[0].set_title(f'Распределение косинусного сходства {title}')\n",
    "        axes[0].set_xlabel('Косинусное сходство')\n",
    "        axes[0].set_ylabel('Частота')\n",
    "        axes[0].axvline(np.mean(cosine_values), color='red', linestyle='--', \n",
    "                       label=f'Среднее: {np.mean(cosine_values):.3f}')\n",
    "        axes[0].legend()\n",
    "        axes[0].grid(True, alpha=0.3)\n",
    "        \n",
    "        # Евклидово расстояние\n",
    "        euclidean_dist = distance_metrics['euclidean_distance_matrix']\n",
    "        euclidean_values = euclidean_dist[euclidean_dist > 0]\n",
    "        \n",
    "        axes[1].hist(euclidean_values, bins=50, alpha=0.7, edgecolor='black')\n",
    "        axes[1].set_title(f'Распределение евклидова расстояния {title}')\n",
    "        axes[1].set_xlabel('Евклидово расстояние')\n",
    "        axes[1].set_ylabel('Частота')\n",
    "        axes[1].axvline(np.mean(euclidean_values), color='red', linestyle='--', \n",
    "                       label=f'Среднее: {np.mean(euclidean_values):.3f}')\n",
    "        axes[1].legend()\n",
    "        axes[1].grid(True, alpha=0.3)\n",
    "        \n",
    "        plt.tight_layout()\n",
    "        plt.show()"
   ]
  },
  {
   "cell_type": "code",
   "execution_count": 95,
   "id": "8deca2ad-4b01-4e07-a6a5-abf1c7961f27",
   "metadata": {},
   "outputs": [],
   "source": [
    "client = QdrantClient(host='localhost', port=6333)"
   ]
  },
  {
   "cell_type": "code",
   "execution_count": 96,
   "id": "071dd33d-1f4a-4520-aebe-28c5f3f1e394",
   "metadata": {},
   "outputs": [
    {
     "name": "stdout",
     "output_type": "stream",
     "text": [
      "Коллекция natural_questions: 39919 точек\n",
      "Анализируется 5000 точек\n",
      "Метрики кластеризации:\n",
      "Silhouette Score (DBSCAN): -0.019\n",
      "Calinski-Harabasz Score (DBSCAN): 14.331\n",
      "Количество кластеров (DBSCAN): 5\n",
      "Шумовые точки (DBSCAN): 4924\n",
      "Метрики расстояний:\n",
      "Среднее косинусное сходство: 0.344\n",
      "Стандартное отклонение косинусного сходства: 0.070\n",
      "Среднее евклидово расстояние: 1.144\n",
      "Стандартное отклонение евклидова расстояния: 0.064\n"
     ]
    },
    {
     "data": {
      "image/png": "[encoded data removed]",
      "text/plain": [
       "<Figure size 1500x600 with 2 Axes>"
      ]
     },
     "metadata": {},
     "output_type": "display_data"
    }
   ],
   "source": [
    "get_info('natural_questions')"
   ]
  },
  {
   "cell_type": "code",
   "execution_count": null,
   "id": "eafe40f4-77d7-48d9-8e55-98d5c4bf5d0b",
   "metadata": {},
   "outputs": [],
   "source": []
  }
 ],
 "metadata": {
  "kernelspec": {
   "display_name": "Python 3 (ipykernel)",
   "language": "python",
   "name": "python3"
  },
  "language_info": {
   "codemirror_mode": {
    "name": "ipython",
    "version": 3
   },
   "file_extension": ".py",
   "mimetype": "text/x-python",
   "name": "python",
   "nbconvert_exporter": "python",
   "pygments_lexer": "ipython3",
   "version": "3.12.3"
  }
 },
 "nbformat": 4,
 "nbformat_minor": 5
}
