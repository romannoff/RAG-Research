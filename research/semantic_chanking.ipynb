{
 "cells": [
  {
   "cell_type": "code",
   "execution_count": null,
   "id": "57a262ae-a2bc-4dca-9b8d-19483e8507c2",
   "metadata": {},
   "outputs": [],
   "source": [
    "cd .."
   ]
  },
  {
   "cell_type": "code",
   "execution_count": null,
   "id": "551f513e-da70-4865-b581-86f652533807",
   "metadata": {},
   "outputs": [],
   "source": [
    "!source venv/bin/activate"
   ]
  },
  {
   "cell_type": "code",
   "execution_count": null,
   "id": "1766e996-07a2-4523-9880-c5330225f451",
   "metadata": {},
   "outputs": [],
   "source": [
    "ls"
   ]
  },
  {
   "cell_type": "code",
   "execution_count": null,
   "id": "65276d54-23d7-4e4d-a203-74ae6ac8c73e",
   "metadata": {},
   "outputs": [],
   "source": [
    "from datasets import load_dataset\n",
    "from tqdm.notebook import tqdm\n",
    "from langchain_text_splitters import RecursiveCharacterTextSplitter\n",
    "import pandas as pd\n",
    "import numpy as np\n",
    "\n",
    "from research.functions import get_natural_questions_sample, get_ms_marco_sample\n",
    "from rag_techniques.simple_rag_giga import SimpleRag"
   ]
  },
  {
   "cell_type": "markdown",
   "id": "82f17d70-e827-4e43-bcb6-7888b481fa3a",
   "metadata": {},
   "source": [
    "# Разбиение на чанки"
   ]
  },
  {
   "cell_type": "code",
   "execution_count": null,
   "id": "568952e3-cf2a-4dcf-8654-998e48eeb760",
   "metadata": {
    "scrolled": true
   },
   "outputs": [],
   "source": [
    "from database.vbase import QdrantBase\n",
    "from langchain_experimental.text_splitter import SemanticChunker\n",
    "from langchain_text_splitters import RecursiveCharacterTextSplitter"
   ]
  },
  {
   "cell_type": "code",
   "execution_count": null,
   "id": "760d1519-67af-419c-899b-06a5a7accdcb",
   "metadata": {},
   "outputs": [],
   "source": [
    "from langchain_huggingface import HuggingFaceEmbeddings"
   ]
  },
  {
   "cell_type": "code",
   "execution_count": null,
   "id": "17311a7b-8142-417a-9d46-f811f46f5f73",
   "metadata": {},
   "outputs": [],
   "source": [
    "embeddings = HuggingFaceEmbeddings(\n",
    "    model_name=\"BAAI/bge-m3\",\n",
    "    model_kwargs={'device': 'cuda'}\n",
    ")"
   ]
  },
  {
   "cell_type": "code",
   "execution_count": null,
   "id": "e45b85dc-486f-47ee-aaea-2c2dd9eaba10",
   "metadata": {},
   "outputs": [],
   "source": [
    "semantic_chunker = SemanticChunker(\n",
    "    embeddings=embeddings,\n",
    "    breakpoint_threshold_type='percentile',\n",
    ")"
   ]
  },
  {
   "cell_type": "code",
   "execution_count": null,
   "id": "471f5c6e-c6c2-4297-8adb-acf84a832760",
   "metadata": {},
   "outputs": [],
   "source": []
  },
  {
   "cell_type": "code",
   "execution_count": null,
   "id": "0c41da13-b33b-4638-8134-9edd881a7c97",
   "metadata": {},
   "outputs": [],
   "source": [
    "dataset = {\n",
    "    'question': [],\n",
    "    'answer': [],\n",
    "}\n",
    "texts = []\n",
    "\n",
    "null_count = 0\n",
    "max_null = 100\n",
    "\n",
    "for data in tqdm(natural_questions):\n",
    "    if len(texts) == 500:\n",
    "        break\n",
    "    \n",
    "    question, context, answer = get_natural_questions_sample(data)\n",
    "    if answer == '' and null_count < max_null:\n",
    "        null_count += 1\n",
    "        texts.append(context)\n",
    "        dataset['question'].append(question)\n",
    "        dataset['answer'].append(answer)\n",
    "        continue\n",
    "    elif answer != '':\n",
    "        texts.append(context)\n",
    "        dataset['question'].append(question)\n",
    "        dataset['answer'].append(answer)"
   ]
  },
  {
   "cell_type": "code",
   "execution_count": null,
   "id": "220cec84-52db-4fe7-8417-b5ea186970bc",
   "metadata": {},
   "outputs": [],
   "source": [
    "chunks = []\n",
    "i = 0\n",
    "for text in tqdm(texts):\n",
    "    chunks += semantic_chunker.split_text(text)\n",
    "    i += 1"
   ]
  },
  {
   "cell_type": "code",
   "execution_count": null,
   "id": "0b39b317-3244-4a0a-92db-06a81b079409",
   "metadata": {},
   "outputs": [],
   "source": [
    "base = QdrantBase(\n",
    "    model_name='BAAI/bge-m3',\n",
    "    vector_dimension=1024,\n",
    "    collection_name='natural_questions_sentences',\n",
    "    device='cuda',\n",
    ")"
   ]
  },
  {
   "cell_type": "code",
   "execution_count": null,
   "id": "a8c5d597-c754-4aed-a63e-7985e0a112be",
   "metadata": {},
   "outputs": [],
   "source": [
    "id_ = 0\n",
    "for chunk in tqdm(chunks):\n",
    "    base.add_point([chunk], {'id': id_})\n",
    "    id_ += 1"
   ]
  },
  {
   "cell_type": "markdown",
   "id": "6afb45f9-ccac-49ed-a39a-efab280ae24c",
   "metadata": {},
   "source": [
    "# Оценка"
   ]
  },
  {
   "cell_type": "code",
   "execution_count": null,
   "id": "c7441c8d-6730-4023-93ce-0fb49a2a9588",
   "metadata": {},
   "outputs": [],
   "source": [
    "model = SimpleRag(collection_name='natural_questions_sentences')\n",
    "df = pd.read_csv('research/data/qa_dataset.csv', index_col=0)"
   ]
  },
  {
   "cell_type": "code",
   "execution_count": null,
   "id": "cafba871-d6f5-4fc6-8b54-f27c9e40aa56",
   "metadata": {},
   "outputs": [],
   "source": [
    "natural_questions_dataset = {\n",
    "    \"question\": [],\n",
    "    \"answer\": [],\n",
    "    \"contexts\": [],\n",
    "    \"ground_truth\": [],\n",
    "}\n",
    "\n",
    "for i, (question, answer) in tqdm(df.loc[:200].iterrows(), total=df.loc[:200].shape[0]):\n",
    "    result = model(question)\n",
    "    natural_questions_dataset[\"question\"].append(question)\n",
    "    natural_questions_dataset[\"answer\"].append(result['answer'])\n",
    "    natural_questions_dataset[\"contexts\"].append(result['context'])\n",
    "    if pd.isna(answer):\n",
    "        answer = 'No answer'\n",
    "    natural_questions_dataset[\"ground_truth\"].append(answer)    "
   ]
  },
  {
   "cell_type": "code",
   "execution_count": null,
   "id": "3fa76f3a-4638-4fc1-be21-bcb73314788f",
   "metadata": {},
   "outputs": [],
   "source": [
    "new_df = pd.DataFrame(natural_questions_dataset)\n",
    "new_df.to_csv('research/data/semantic_chanling_rag.csv')"
   ]
  },
  {
   "cell_type": "code",
   "execution_count": null,
   "id": "bf1e0254-2160-4ef5-8b5f-ebaa69a494e9",
   "metadata": {},
   "outputs": [],
   "source": [
    "from src.answer_correctness import AnswerCorrectness\n",
    "\n",
    "evaluator = AnswerCorrectness()\n",
    "res = evaluator.get_correctness(natural_questions_dataset['question'], natural_questions_dataset['answer'], natural_questions_dataset['ground_truth'])\n",
    "np.mean(res[1])"
   ]
  },
  {
   "cell_type": "code",
   "execution_count": null,
   "id": "8d11f9f3-661c-4fda-9b9b-c218c4458506",
   "metadata": {},
   "outputs": [],
   "source": [
    "from src.ragas import Evaluator\n",
    "ragas = Evaluator()"
   ]
  },
  {
   "cell_type": "code",
   "execution_count": null,
   "id": "91eddea9-ac80-4c71-92ef-d1b3a38bff6b",
   "metadata": {
    "scrolled": true
   },
   "outputs": [],
   "source": [
    "e = ragas.eval(natural_questions_dataset)"
   ]
  },
  {
   "cell_type": "code",
   "execution_count": null,
   "id": "5d6324ee-8186-4431-9da8-244c738cfe51",
   "metadata": {},
   "outputs": [],
   "source": []
  }
 ],
 "metadata": {
  "kernelspec": {
   "display_name": "Python 3 (ipykernel)",
   "language": "python",
   "name": "python3"
  },
  "language_info": {
   "codemirror_mode": {
    "name": "ipython",
    "version": 3
   },
   "file_extension": ".py",
   "mimetype": "text/x-python",
   "name": "python",
   "nbconvert_exporter": "python",
   "pygments_lexer": "ipython3",
   "version": "3.12.3"
  }
 },
 "nbformat": 4,
 "nbformat_minor": 5
}
